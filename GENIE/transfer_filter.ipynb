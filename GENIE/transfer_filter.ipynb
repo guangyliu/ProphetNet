{
 "cells": [
  {
   "cell_type": "code",
   "execution_count": 27,
   "id": "019ef743-684c-4583-86f8-16b46a3e0d3c",
   "metadata": {},
   "outputs": [],
   "source": [
    "import os\n",
    "path = './ckpt/transfer_generation/'\n",
    "prefix = \"rank0_gen_seed_101_num1_epoch1_inter\"\n",
    "sym = \".0.txt\""
   ]
  },
  {
   "cell_type": "code",
   "execution_count": 29,
   "id": "62211139-e96b-4a04-8dfe-e57bbfbc8da1",
   "metadata": {},
   "outputs": [],
   "source": [
    "for num in range(100,500,50):\n",
    "    file_pos_2_neg = os.path.join(path,prefix+str(num)+sym)\n",
    "    file_neg_2_pos = os.path.join(path,prefix+'-'+str(num)+sym)\n",
    "    with open(file_pos_2_neg) as f:\n",
    "        pos_2_neg = f.readlines()[200:700]\n",
    "    with open(file_neg_2_pos) as f:\n",
    "        neg_2_pos = f.readlines()[200:700]\n",
    "    out = neg_2_pos+pos_2_neg\n",
    "    with open(os.path.join(path,str(num/100)+'.txt'), 'w') as f:\n",
    "        f.write(''.join(out))"
   ]
  },
  {
   "cell_type": "markdown",
   "id": "474b69ec-6718-490d-8e8b-5cd486c1a170",
   "metadata": {},
   "source": [
    "# AR - Diffusion"
   ]
  },
  {
   "cell_type": "code",
   "execution_count": 35,
   "id": "8dd11014-22dd-4b85-b283-fa28c4bfd972",
   "metadata": {},
   "outputs": [],
   "source": [
    "import os\n",
    "path = '../AR-diffusion/my_output/yelp/yelp/10000_ema_0.9999_skip__xy_20/num0/'\n",
    "prefix = \"trans\"\n",
    "sym = \"_rank0_seed_101.txt\""
   ]
  },
  {
   "cell_type": "code",
   "execution_count": 41,
   "id": "3d7d2402-e19c-4a7c-a880-6d7e5f6201b7",
   "metadata": {},
   "outputs": [],
   "source": [
    "for n in range(100,500,50):\n",
    "    if n % 100 == 0:\n",
    "        num = int(n/100)\n",
    "    else:\n",
    "        num = round(n/100,1)\n",
    "    file_pos_2_neg = os.path.join(path,prefix+str(num)+sym)\n",
    "    file_neg_2_pos = os.path.join(path,prefix+'-'+str(num)+sym)\n",
    "    with open(file_pos_2_neg) as f:\n",
    "        pos_2_neg = f.readlines()[200:700]\n",
    "    with open(file_neg_2_pos) as f:\n",
    "        neg_2_pos = f.readlines()[200:700]\n",
    "    out = neg_2_pos+pos_2_neg\n",
    "    with open(os.path.join(path,str(num)+'.txt'), 'w') as f:\n",
    "        f.write(''.join(out))"
   ]
  },
  {
   "cell_type": "code",
   "execution_count": 38,
   "id": "c11e939d-7f40-4438-a6be-ba98f76100c9",
   "metadata": {},
   "outputs": [
    {
     "data": {
      "text/plain": [
       "50"
      ]
     },
     "execution_count": 38,
     "metadata": {},
     "output_type": "execute_result"
    }
   ],
   "source": [
    "150 % 100"
   ]
  },
  {
   "cell_type": "code",
   "execution_count": null,
   "id": "19702999-3440-44b1-a7e0-ed48a46a7b84",
   "metadata": {},
   "outputs": [],
   "source": []
  }
 ],
 "metadata": {
  "kernelspec": {
   "display_name": "Python 3 (ipykernel)",
   "language": "python",
   "name": "python3"
  },
  "language_info": {
   "codemirror_mode": {
    "name": "ipython",
    "version": 3
   },
   "file_extension": ".py",
   "mimetype": "text/x-python",
   "name": "python",
   "nbconvert_exporter": "python",
   "pygments_lexer": "ipython3",
   "version": "3.10.12"
  }
 },
 "nbformat": 4,
 "nbformat_minor": 5
}
