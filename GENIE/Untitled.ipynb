{
 "cells": [
  {
   "cell_type": "code",
   "execution_count": 8,
   "id": "019ef743-684c-4583-86f8-16b46a3e0d3c",
   "metadata": {},
   "outputs": [],
   "source": [
    "import os\n",
    "path = './ckpt/transfer_generation/'\n",
    "prefix = \"rank0_gen_seed_101_num1_epoch1_inter\"\n",
    "sym = \".0.txt\""
   ]
  },
  {
   "cell_type": "code",
   "execution_count": 26,
   "id": "62211139-e96b-4a04-8dfe-e57bbfbc8da1",
   "metadata": {},
   "outputs": [],
   "source": [
    "for num in range(100,500,50):\n",
    "    file_pos_2_neg = os.path.join(path,prefix+str(num)+sym)\n",
    "    file_neg_2_pos = os.path.join(path,prefix+'-'+str(num)+sym)\n",
    "    with open(file_pos_2_neg) as f:\n",
    "        pos_2_neg = f.readlines()[200:700]\n",
    "    with open(file_neg_2_pos) as f:\n",
    "        neg_2_pos = f.readlines()[200:700]\n",
    "    out = pos_2_neg+neg_2_pos\n",
    "    with open(os.path.join(path,str(num/100)+'.txt'), 'w') as f:\n",
    "        f.write(''.join(out))"
   ]
  }
 ],
 "metadata": {
  "kernelspec": {
   "display_name": "Python 3 (ipykernel)",
   "language": "python",
   "name": "python3"
  },
  "language_info": {
   "codemirror_mode": {
    "name": "ipython",
    "version": 3
   },
   "file_extension": ".py",
   "mimetype": "text/x-python",
   "name": "python",
   "nbconvert_exporter": "python",
   "pygments_lexer": "ipython3",
   "version": "3.10.12"
  }
 },
 "nbformat": 4,
 "nbformat_minor": 5
}
